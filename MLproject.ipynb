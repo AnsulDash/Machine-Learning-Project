{
  "nbformat": 4,
  "nbformat_minor": 0,
  "metadata": {
    "colab": {
      "provenance": []
    },
    "kernelspec": {
      "name": "python3",
      "display_name": "Python 3"
    },
    "language_info": {
      "name": "python"
    }
  },
  "cells": [
    {
      "cell_type": "code",
      "execution_count": 12,
      "metadata": {
        "colab": {
          "base_uri": "https://localhost:8080/"
        },
        "id": "YnISTcmuYJ6e",
        "outputId": "6eca847f-68db-4c25-e466-7fc6434a1fd1"
      },
      "outputs": [
        {
          "output_type": "stream",
          "name": "stdout",
          "text": [
            "0.99 0.012247448713915901\n",
            "Sex ['F', 'M'] [0, 1] \n",
            "\n",
            "BP ['HIGH', 'LOW', 'NORMAL'] [0, 1, 2] \n",
            "\n",
            "Cholesterol ['HIGH', 'NORMAL'] [0, 1] \n",
            "\n",
            "Drug ['DrugY', 'drugC', 'drugX', 'drugA', 'drugB'] [0, 3, 4, 1, 2] \n",
            "\n",
            "Predicted drug: drugX\n",
            "Accuracy using Naive Bayes Classfier: 0.865\n",
            "              precision    recall  f1-score   support\n",
            "\n",
            "           0       0.98      0.71      0.83        91\n",
            "           1       0.70      1.00      0.82        23\n",
            "           2       0.80      1.00      0.89        16\n",
            "           3       0.59      1.00      0.74        16\n",
            "           4       0.98      0.98      0.98        54\n",
            "\n",
            "    accuracy                           0.86       200\n",
            "   macro avg       0.81      0.94      0.85       200\n",
            "weighted avg       0.90      0.86      0.87       200\n",
            "\n"
          ]
        },
        {
          "output_type": "stream",
          "name": "stderr",
          "text": [
            "/usr/local/lib/python3.10/dist-packages/sklearn/base.py:439: UserWarning: X does not have valid feature names, but DecisionTreeClassifier was fitted with feature names\n",
            "  warnings.warn(\n",
            "/usr/local/lib/python3.10/dist-packages/sklearn/linear_model/_logistic.py:458: ConvergenceWarning: lbfgs failed to converge (status=1):\n",
            "STOP: TOTAL NO. of ITERATIONS REACHED LIMIT.\n",
            "\n",
            "Increase the number of iterations (max_iter) or scale the data as shown in:\n",
            "    https://scikit-learn.org/stable/modules/preprocessing.html\n",
            "Please also refer to the documentation for alternative solver options:\n",
            "    https://scikit-learn.org/stable/modules/linear_model.html#logistic-regression\n",
            "  n_iter_i = _check_optimize_result(\n",
            "/usr/local/lib/python3.10/dist-packages/sklearn/base.py:439: UserWarning: X does not have valid feature names, but DecisionTreeClassifier was fitted with feature names\n",
            "  warnings.warn(\n"
          ]
        }
      ],
      "source": [
        "import pandas as pd\n",
        "from sklearn.tree import DecisionTreeClassifier\n",
        "from sklearn.preprocessing import LabelEncoder\n",
        "from sklearn.model_selection import KFold, cross_val_score\n",
        "from sklearn.linear_model import LogisticRegression\n",
        "from sklearn.naive_bayes import GaussianNB\n",
        "from sklearn.metrics import accuracy_score, classification_report\n",
        "from sklearn.model_selection import KFold, cross_val_score\n",
        "\n",
        "df_drug = pd.read_csv(\"/content/drug200.csv\")\n",
        "\n",
        "label_encoder = LabelEncoder()\n",
        "\n",
        "categorical_features = [feature for feature in df_drug.columns if df_drug[feature].dtypes == 'O']\n",
        "for feature in categorical_features:\n",
        "    df_drug[feature]=label_encoder.fit_transform(df_drug[feature])\n",
        "\n",
        "X = df_drug.drop(\"Drug\", axis=1)\n",
        "y = df_drug[\"Drug\"]\n",
        "\n",
        "model = DecisionTreeClassifier(criterion=\"entropy\")\n",
        "model.fit(X, y)\n",
        "\n",
        "kfold = KFold(random_state=42, shuffle=True)\n",
        "cv_results = cross_val_score(model, X, y, cv=kfold, scoring=\"accuracy\")\n",
        "print(cv_results.mean(), cv_results.std())\n",
        "import pickle\n",
        "\n",
        "pickle_file = open('model.pkl', 'ab')\n",
        "pickle.dump(model, pickle_file)\n",
        "pickle_file.close()\n",
        "\n",
        "df_drug = pd.read_csv(\"/content/drug200.csv\")\n",
        "\n",
        "label_encoder = LabelEncoder()\n",
        "\n",
        "categorical_features = [feature for feature in df_drug.columns if df_drug[feature].dtypes == 'O']\n",
        "for feature in categorical_features:\n",
        "    print(feature, list(df_drug[feature].unique()), list(label_encoder.fit_transform(df_drug[feature].unique())), \"\\n\")\n",
        "\n",
        "\n",
        "gender_map = {\"F\": 0, \"M\": 1}\n",
        "bp_map = {\"HIGH\": 0, \"LOW\": 1, \"NORMAL\": 2}\n",
        "cholestol_map = {\"HIGH\": 0, \"NORMAL\": 1}\n",
        "drug_map = {0: \"DrugY\", 3: \"drugC\", 4: \"drugX\", 1: \"drugA\", 2: \"drugB\"}\n",
        "\n",
        "def predict_drug(Age,\n",
        "                 Sex,\n",
        "                 BP,\n",
        "                 Cholesterol,\n",
        "                 Na_to_K):\n",
        "\n",
        "    # 1. Read the machine learning model from its saved state ...\n",
        "    pickle_file = open('model.pkl', 'rb')\n",
        "    model = pickle.load(pickle_file)\n",
        "\n",
        "    # 2. Transform the \"raw data\" passed into the function to the encoded / numerical values using the maps / dictionaries\n",
        "    Sex = gender_map[Sex]\n",
        "    BP = bp_map[BP]\n",
        "    Cholesterol = cholestol_map[Cholesterol]\n",
        "\n",
        "    # 3. Make an individual prediction for this set of data\n",
        "    y_predict = model.predict([[Age, Sex, BP, Cholesterol, Na_to_K]])[0]\n",
        "\n",
        "    # 4. Return the \"raw\" version of the prediction i.e. the actual name of the drug rather than the numerical encoded version\n",
        "\n",
        "    return drug_map[y_predict]\n",
        "\n",
        "predict_drug(47, \"F\", \"LOW\",  \"HIGH\", 14)\n",
        "\n",
        "\n",
        "#LOGISTIC REGRESSION\n",
        "model = LogisticRegression()\n",
        "model.fit(X, y)\n",
        "def predict_drug_2(Age, Sex, BP, Cholesterol, Na_to_K):\n",
        "    # Convert input to the format expected by the model\n",
        "    input_data = [[Age, Sex, BP, Cholesterol, Na_to_K]]\n",
        "\n",
        "    # Preprocess input\n",
        "    for i in range(len(input_data[0])):\n",
        "        if isinstance(input_data[0][i], str):\n",
        "            input_data1[0][i] = label_encoders[i].transform([input_data[0][i]])[0]\n",
        "\n",
        "    # Make prediction\n",
        "    predicted_drug = model.predict(input_data1)\n",
        "\n",
        "    return predicted_drug[0]  # Return the predicted drug\n",
        "\n",
        "# Example usage\n",
        "predicted_drug = predict_drug(54, \"M\", \"LOW\",\"NORMAL\", 14)\n",
        "print(\"Predicted drug:\", predicted_drug)\n",
        "\n",
        "\n",
        "#Naive bayes classifer implemented\n",
        "# Initialize the Naive Bayes classifier (Gaussian Naive Bayes for continuous features)\n",
        "nb_classifier = GaussianNB()\n",
        "\n",
        "# Train the classifier\n",
        "nb_classifier.fit(X,y)\n",
        "\n",
        "# Predictions\n",
        "y_pred = nb_classifier.predict(X)\n",
        "\n",
        "# Model evaluation\n",
        "accuracy = accuracy_score(y,y_pred)\n",
        "print(\"Accuracy using Naive Bayes Classfier:\", accuracy)\n",
        "\n",
        "# Print classification report\n",
        "print(classification_report(y,y_pred))\n"
      ]
    },
    {
      "cell_type": "code",
      "source": [
        "predict_drug_dt= predict_drug(54, \"M\", \"LOW\",  \"NORMAL\", 14)\n",
        "print(\"Predicted drug uing Decision Tree:\",predict_drug_dt)"
      ],
      "metadata": {
        "id": "rdN7bEzzZk9e",
        "outputId": "06cd0348-29d5-4253-8f3c-0b853ca85b23",
        "colab": {
          "base_uri": "https://localhost:8080/"
        }
      },
      "execution_count": 9,
      "outputs": [
        {
          "output_type": "stream",
          "name": "stdout",
          "text": [
            "Predicted drug uing Decision Tree: drugX\n"
          ]
        },
        {
          "output_type": "stream",
          "name": "stderr",
          "text": [
            "/usr/local/lib/python3.10/dist-packages/sklearn/base.py:439: UserWarning: X does not have valid feature names, but DecisionTreeClassifier was fitted with feature names\n",
            "  warnings.warn(\n"
          ]
        }
      ]
    },
    {
      "cell_type": "code",
      "source": [
        "predicted_drug = predict_drug(54, \"M\", \"LOW\",\"NORMAL\", 14)\n",
        "print(\"Predicted drug using Logistic Regression:\", predicted_drug)"
      ],
      "metadata": {
        "id": "WMoSEz8vzw39",
        "outputId": "7317ce6c-3a5d-4800-92bb-fad33d1a9e81",
        "colab": {
          "base_uri": "https://localhost:8080/"
        }
      },
      "execution_count": 10,
      "outputs": [
        {
          "output_type": "stream",
          "name": "stdout",
          "text": [
            "Predicted drug using Logistic Regression: drugX\n"
          ]
        },
        {
          "output_type": "stream",
          "name": "stderr",
          "text": [
            "/usr/local/lib/python3.10/dist-packages/sklearn/base.py:439: UserWarning: X does not have valid feature names, but DecisionTreeClassifier was fitted with feature names\n",
            "  warnings.warn(\n"
          ]
        }
      ]
    },
    {
      "cell_type": "code",
      "source": [],
      "metadata": {
        "id": "lBBaibzmzx4A"
      },
      "execution_count": null,
      "outputs": []
    }
  ]
}